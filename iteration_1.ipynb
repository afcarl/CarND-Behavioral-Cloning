{
 "cells": [
  {
   "cell_type": "code",
   "execution_count": 2,
   "metadata": {
    "collapsed": false
   },
   "outputs": [],
   "source": [
    "import numpy as np\n",
    "import pandas as pd\n",
    "import keras\n",
    "\n",
    "DISPLAY = False"
   ]
  },
  {
   "cell_type": "code",
   "execution_count": 3,
   "metadata": {
    "collapsed": false
   },
   "outputs": [
    {
     "name": "stdout",
     "output_type": "stream",
     "text": [
      "len(df): 12557\n"
     ]
    }
   ],
   "source": [
    "from bc_helper.simulator_data import SimulatorData\n",
    "from bc_helper.load import load_smooth_data, load_simple_data\n",
    "\n",
    "orig = load_simple_data()\n",
    "smooth = load_smooth_data()\n",
    "\n",
    "orig_data = SimulatorData(orig)\n",
    "smooth_data = SimulatorData(smooth)"
   ]
  },
  {
   "cell_type": "code",
   "execution_count": 3,
   "metadata": {
    "collapsed": false
   },
   "outputs": [],
   "source": [
    "def data_info(sim_data, name):\n",
    "  # Number of training examples\n",
    "  n_train = sim_data.num_train\n",
    "  # Number of testing examples.\n",
    "  n_test = sim_data.num_validation\n",
    "  # What's the shape of an image?\n",
    "  image_shape = sim_data.feature_shape\n",
    "  # Max and min steering angles\n",
    "  s_max = sim_data.max_label\n",
    "  s_min = sim_data.min_label\n",
    "\n",
    "  print(name, \"number of training examples =\", n_train)\n",
    "  print(name, \"number of testing examples =\", n_test)\n",
    "  print(name, \"image data shape =\", image_shape)\n",
    "  print(name, \"max steering angle =\", s_max)\n",
    "  print(name, \"min steering angle =\", s_min)\n",
    "  \n",
    "if DISPLAY:\n",
    "  data_info(orig_data, \"Steering Data\")\n",
    "  print()\n",
    "  data_info(smooth_data, \"Smoothed Steering Data\")"
   ]
  },
  {
   "cell_type": "code",
   "execution_count": 4,
   "metadata": {
    "collapsed": false
   },
   "outputs": [],
   "source": [
    "import matplotlib.pyplot as plt\n",
    "import random\n",
    "# Visualizations will be shown in the notebook.\n",
    "%matplotlib inline\n",
    "\n",
    "def display_image(index, data):\n",
    "  print(\"Steering angle:\", data._df['steering'][index])\n",
    "  fig = plt.figure(figsize = (3, 3))\n",
    "  axis = fig.add_subplot(1, 1, 1, xticks=[], yticks=[])\n",
    "  axis.imshow(data.img(index))\n",
    "  plt.show()\n",
    "  print(\"---------------------------------------------------------\\n\")\n",
    "  \n",
    "if DISPLAY:\n",
    "  for i in range(10):\n",
    "    display_image(random.randint(0, orig_data.num_train), orig_data)"
   ]
  },
  {
   "cell_type": "code",
   "execution_count": 5,
   "metadata": {
    "collapsed": false
   },
   "outputs": [],
   "source": [
    "import matplotlib.mlab as mlab\n",
    "import matplotlib.pyplot as plt\n",
    "%matplotlib inline\n",
    "\n",
    "def hist(data, name):\n",
    "  n, bins, patches = plt.hist(data, bins=50, facecolor='green')\n",
    "\n",
    "  plt.xlabel('steering angle')\n",
    "  plt.ylabel('Count')\n",
    "  plt.title('Count  of ' + name)\n",
    "  plt.grid(True)\n",
    "  plt.show()\n",
    "  \n",
    "if DISPLAY:\n",
    "  hist(orig_data._df['steering'], 'steering angle')\n",
    "  hist([sa for sa in orig_data._df['steering'] if sa > 0.01 or sa < -0.01], 'steering angle without zeros')\n",
    "  \n",
    "  hist(smooth_data._df['smooth_steering'], 'smooth steering angle')\n",
    "  hist([sa for sa in smooth_data._df['smooth_steering'] if sa > 0.01 or sa < -0.01], 'smooth steering angle without zeros')"
   ]
  },
  {
   "cell_type": "markdown",
   "metadata": {},
   "source": [
    "Ok! So we clearly have a ton of zeros. but when the zeros are taken out the data is skewed left. This makes sense because both courses were basically counter clockwise circles. \n",
    "\n",
    "One fun note, a model could get a really high training by just guessing 0 the whole time. "
   ]
  },
  {
   "cell_type": "code",
   "execution_count": 6,
   "metadata": {
    "collapsed": false
   },
   "outputs": [
    {
     "name": "stdout",
     "output_type": "stream",
     "text": [
      "orig train: (11410, 5, 10, 512) (11410,)\n",
      "orig_val: (4891, 5, 10, 512) (4891,)\n",
      "smooth train (8789, 5, 10, 512) (8789,)\n",
      "smooth val: (4891, 5, 10, 512) (4891,)\n"
     ]
    }
   ],
   "source": [
    "# from keras.applications.vgg16 import VGG16\n",
    "from keras.layers import Dropout, Input\n",
    "import h5py\n",
    "from bc_helper.bottleneck_data import load_bottleneck_model\n",
    "\n",
    "orig_precalc_train, orig_precalc_val = load_bottleneck_model('original')\n",
    "orig_X_train = orig_precalc_train['features']\n",
    "orig_y_train = orig_precalc_train['labels']\n",
    "orig_X_val = orig_precalc_val['features']\n",
    "orig_y_val = orig_precalc_val['labels']\n",
    "print(\"orig train:\", orig_X_train.shape, orig_y_train.shape)\n",
    "print(\"orig_val:\", orig_X_val.shape, orig_y_val.shape)\n",
    "\n",
    "smooth_precalc_train, smooth_precalc_val = load_bottleneck_model('smooth')\n",
    "smooth_X_train = smooth_precalc_train['features']\n",
    "smooth_y_train = smooth_precalc_train['labels']\n",
    "smooth_X_val = orig_precalc_val['features']\n",
    "smooth_y_val = orig_precalc_val['labels']\n",
    "print(\"smooth train\", smooth_X_train.shape, smooth_y_train.shape)\n",
    "print(\"smooth val:\", smooth_X_val.shape, smooth_y_val.shape)"
   ]
  },
  {
   "cell_type": "code",
   "execution_count": 7,
   "metadata": {
    "collapsed": false
   },
   "outputs": [
    {
     "name": "stdout",
     "output_type": "stream",
     "text": [
      "train model\n",
      "Train on 11410 samples, validate on 4891 samples\n",
      "Epoch 1/10\n",
      "365s - loss: 415.5227 - acc: 0.2598 - val_loss: 0.0622 - val_acc: 0.6132\n",
      "Epoch 2/10\n",
      "361s - loss: 0.9315 - acc: 0.5647 - val_loss: 0.0612 - val_acc: 0.6140\n",
      "Epoch 3/10\n",
      "363s - loss: 0.1878 - acc: 0.6027 - val_loss: 0.0608 - val_acc: 0.6140\n",
      "Epoch 4/10\n",
      "359s - loss: 0.0994 - acc: 0.6079 - val_loss: 0.0608 - val_acc: 0.6140\n",
      "Epoch 5/10\n",
      "359s - loss: 0.0725 - acc: 0.6110 - val_loss: 0.0608 - val_acc: 0.6140\n",
      "Epoch 6/10\n",
      "360s - loss: 0.0583 - acc: 0.6114 - val_loss: 0.0608 - val_acc: 0.6140\n",
      "Epoch 7/10\n",
      "359s - loss: 0.0750 - acc: 0.6110 - val_loss: 0.0608 - val_acc: 0.6140\n",
      "Epoch 8/10\n",
      "359s - loss: 0.0567 - acc: 0.6117 - val_loss: 0.0608 - val_acc: 0.6140\n",
      "Epoch 9/10\n",
      "360s - loss: 0.0558 - acc: 0.6117 - val_loss: 0.0608 - val_acc: 0.6140\n",
      "Epoch 10/10\n",
      "359s - loss: 0.0564 - acc: 0.6117 - val_loss: 0.0608 - val_acc: 0.6140\n",
      "Evaluate train\n",
      "Evaluate validation\n",
      "train model\n",
      "Train on 8789 samples, validate on 4891 samples\n",
      "Epoch 1/10\n"
     ]
    },
    {
     "ename": "ResourceExhaustedError",
     "evalue": "OOM when allocating tensor with shape[25600,512]\n\t [[Node: mul_47 = Mul[T=DT_FLOAT, _device=\"/job:localhost/replica:0/task:0/gpu:0\"](sub_30, gradients_1/MatMul_4_grad/MatMul_1)]]\n\nCaused by op 'mul_47', defined at:\n  File \"/Users/kyledorman/anaconda/envs/carnd/lib/python3.5/runpy.py\", line 184, in _run_module_as_main\n    \"__main__\", mod_spec)\n  File \"/Users/kyledorman/anaconda/envs/carnd/lib/python3.5/runpy.py\", line 85, in _run_code\n    exec(code, run_globals)\n  File \"/Users/kyledorman/anaconda/envs/carnd/lib/python3.5/site-packages/ipykernel/__main__.py\", line 3, in <module>\n    app.launch_new_instance()\n  File \"/Users/kyledorman/anaconda/envs/carnd/lib/python3.5/site-packages/traitlets/config/application.py\", line 658, in launch_instance\n    app.start()\n  File \"/Users/kyledorman/anaconda/envs/carnd/lib/python3.5/site-packages/ipykernel/kernelapp.py\", line 474, in start\n    ioloop.IOLoop.instance().start()\n  File \"/Users/kyledorman/anaconda/envs/carnd/lib/python3.5/site-packages/zmq/eventloop/ioloop.py\", line 177, in start\n    super(ZMQIOLoop, self).start()\n  File \"/Users/kyledorman/anaconda/envs/carnd/lib/python3.5/site-packages/tornado/ioloop.py\", line 887, in start\n    handler_func(fd_obj, events)\n  File \"/Users/kyledorman/anaconda/envs/carnd/lib/python3.5/site-packages/tornado/stack_context.py\", line 275, in null_wrapper\n    return fn(*args, **kwargs)\n  File \"/Users/kyledorman/anaconda/envs/carnd/lib/python3.5/site-packages/zmq/eventloop/zmqstream.py\", line 440, in _handle_events\n    self._handle_recv()\n  File \"/Users/kyledorman/anaconda/envs/carnd/lib/python3.5/site-packages/zmq/eventloop/zmqstream.py\", line 472, in _handle_recv\n    self._run_callback(callback, msg)\n  File \"/Users/kyledorman/anaconda/envs/carnd/lib/python3.5/site-packages/zmq/eventloop/zmqstream.py\", line 414, in _run_callback\n    callback(*args, **kwargs)\n  File \"/Users/kyledorman/anaconda/envs/carnd/lib/python3.5/site-packages/tornado/stack_context.py\", line 275, in null_wrapper\n    return fn(*args, **kwargs)\n  File \"/Users/kyledorman/anaconda/envs/carnd/lib/python3.5/site-packages/ipykernel/kernelbase.py\", line 276, in dispatcher\n    return self.dispatch_shell(stream, msg)\n  File \"/Users/kyledorman/anaconda/envs/carnd/lib/python3.5/site-packages/ipykernel/kernelbase.py\", line 228, in dispatch_shell\n    handler(stream, idents, msg)\n  File \"/Users/kyledorman/anaconda/envs/carnd/lib/python3.5/site-packages/ipykernel/kernelbase.py\", line 390, in execute_request\n    user_expressions, allow_stdin)\n  File \"/Users/kyledorman/anaconda/envs/carnd/lib/python3.5/site-packages/ipykernel/ipkernel.py\", line 196, in do_execute\n    res = shell.run_cell(code, store_history=store_history, silent=silent)\n  File \"/Users/kyledorman/anaconda/envs/carnd/lib/python3.5/site-packages/ipykernel/zmqshell.py\", line 501, in run_cell\n    return super(ZMQInteractiveShell, self).run_cell(*args, **kwargs)\n  File \"/Users/kyledorman/anaconda/envs/carnd/lib/python3.5/site-packages/IPython/core/interactiveshell.py\", line 2717, in run_cell\n    interactivity=interactivity, compiler=compiler, result=result)\n  File \"/Users/kyledorman/anaconda/envs/carnd/lib/python3.5/site-packages/IPython/core/interactiveshell.py\", line 2821, in run_ast_nodes\n    if self.run_code(code, result):\n  File \"/Users/kyledorman/anaconda/envs/carnd/lib/python3.5/site-packages/IPython/core/interactiveshell.py\", line 2881, in run_code\n    exec(code_obj, self.user_global_ns, self.user_ns)\n  File \"<ipython-input-7-d9bbe9ec50b9>\", line 34, in <module>\n    smooth_results = eval_model(smooth_X_train, smooth_y_train, smooth_X_val, smooth_y_val)\n  File \"<ipython-input-7-d9bbe9ec50b9>\", line 20, in eval_model\n    model.fit(X_train, y_train, batch_size=3, nb_epoch=10, verbose=2, validation_data=(X_val, y_val), shuffle=True)\n  File \"/Users/kyledorman/anaconda/envs/carnd/lib/python3.5/site-packages/keras/models.py\", line 672, in fit\n    initial_epoch=initial_epoch)\n  File \"/Users/kyledorman/anaconda/envs/carnd/lib/python3.5/site-packages/keras/engine/training.py\", line 1164, in fit\n    self._make_train_function()\n  File \"/Users/kyledorman/anaconda/envs/carnd/lib/python3.5/site-packages/keras/engine/training.py\", line 761, in _make_train_function\n    self.total_loss)\n  File \"/Users/kyledorman/anaconda/envs/carnd/lib/python3.5/site-packages/keras/optimizers.py\", line 428, in get_updates\n    m_t = (self.beta_1 * m) + (1. - self.beta_1) * g\n  File \"/Users/kyledorman/anaconda/envs/carnd/lib/python3.5/site-packages/tensorflow/python/ops/math_ops.py\", line 814, in binary_op_wrapper\n    return func(x, y, name=name)\n  File \"/Users/kyledorman/anaconda/envs/carnd/lib/python3.5/site-packages/tensorflow/python/ops/math_ops.py\", line 987, in _mul_dispatch\n    return gen_math_ops.mul(x, y, name=name)\n  File \"/Users/kyledorman/anaconda/envs/carnd/lib/python3.5/site-packages/tensorflow/python/ops/gen_math_ops.py\", line 1613, in mul\n    result = _op_def_lib.apply_op(\"Mul\", x=x, y=y, name=name)\n  File \"/Users/kyledorman/anaconda/envs/carnd/lib/python3.5/site-packages/tensorflow/python/framework/op_def_library.py\", line 759, in apply_op\n    op_def=op_def)\n  File \"/Users/kyledorman/anaconda/envs/carnd/lib/python3.5/site-packages/tensorflow/python/framework/ops.py\", line 2240, in create_op\n    original_op=self._default_original_op, op_def=op_def)\n  File \"/Users/kyledorman/anaconda/envs/carnd/lib/python3.5/site-packages/tensorflow/python/framework/ops.py\", line 1128, in __init__\n    self._traceback = _extract_stack()\n\nResourceExhaustedError (see above for traceback): OOM when allocating tensor with shape[25600,512]\n\t [[Node: mul_47 = Mul[T=DT_FLOAT, _device=\"/job:localhost/replica:0/task:0/gpu:0\"](sub_30, gradients_1/MatMul_4_grad/MatMul_1)]]\n",
     "output_type": "error",
     "traceback": [
      "\u001b[0;31m---------------------------------------------------------------------------\u001b[0m",
      "\u001b[0;31mResourceExhaustedError\u001b[0m                    Traceback (most recent call last)",
      "\u001b[0;32m/Users/kyledorman/anaconda/envs/carnd/lib/python3.5/site-packages/tensorflow/python/client/session.py\u001b[0m in \u001b[0;36m_do_call\u001b[0;34m(self, fn, *args)\u001b[0m\n\u001b[1;32m   1020\u001b[0m     \u001b[0;32mtry\u001b[0m\u001b[0;34m:\u001b[0m\u001b[0;34m\u001b[0m\u001b[0m\n\u001b[0;32m-> 1021\u001b[0;31m       \u001b[0;32mreturn\u001b[0m \u001b[0mfn\u001b[0m\u001b[0;34m(\u001b[0m\u001b[0;34m*\u001b[0m\u001b[0margs\u001b[0m\u001b[0;34m)\u001b[0m\u001b[0;34m\u001b[0m\u001b[0m\n\u001b[0m\u001b[1;32m   1022\u001b[0m     \u001b[0;32mexcept\u001b[0m \u001b[0merrors\u001b[0m\u001b[0;34m.\u001b[0m\u001b[0mOpError\u001b[0m \u001b[0;32mas\u001b[0m \u001b[0me\u001b[0m\u001b[0;34m:\u001b[0m\u001b[0;34m\u001b[0m\u001b[0m\n",
      "\u001b[0;32m/Users/kyledorman/anaconda/envs/carnd/lib/python3.5/site-packages/tensorflow/python/client/session.py\u001b[0m in \u001b[0;36m_run_fn\u001b[0;34m(session, feed_dict, fetch_list, target_list, options, run_metadata)\u001b[0m\n\u001b[1;32m   1002\u001b[0m                                  \u001b[0mfeed_dict\u001b[0m\u001b[0;34m,\u001b[0m \u001b[0mfetch_list\u001b[0m\u001b[0;34m,\u001b[0m \u001b[0mtarget_list\u001b[0m\u001b[0;34m,\u001b[0m\u001b[0;34m\u001b[0m\u001b[0m\n\u001b[0;32m-> 1003\u001b[0;31m                                  status, run_metadata)\n\u001b[0m\u001b[1;32m   1004\u001b[0m \u001b[0;34m\u001b[0m\u001b[0m\n",
      "\u001b[0;32m/Users/kyledorman/anaconda/envs/carnd/lib/python3.5/contextlib.py\u001b[0m in \u001b[0;36m__exit__\u001b[0;34m(self, type, value, traceback)\u001b[0m\n\u001b[1;32m     65\u001b[0m             \u001b[0;32mtry\u001b[0m\u001b[0;34m:\u001b[0m\u001b[0;34m\u001b[0m\u001b[0m\n\u001b[0;32m---> 66\u001b[0;31m                 \u001b[0mnext\u001b[0m\u001b[0;34m(\u001b[0m\u001b[0mself\u001b[0m\u001b[0;34m.\u001b[0m\u001b[0mgen\u001b[0m\u001b[0;34m)\u001b[0m\u001b[0;34m\u001b[0m\u001b[0m\n\u001b[0m\u001b[1;32m     67\u001b[0m             \u001b[0;32mexcept\u001b[0m \u001b[0mStopIteration\u001b[0m\u001b[0;34m:\u001b[0m\u001b[0;34m\u001b[0m\u001b[0m\n",
      "\u001b[0;32m/Users/kyledorman/anaconda/envs/carnd/lib/python3.5/site-packages/tensorflow/python/framework/errors_impl.py\u001b[0m in \u001b[0;36mraise_exception_on_not_ok_status\u001b[0;34m()\u001b[0m\n\u001b[1;32m    468\u001b[0m           \u001b[0mcompat\u001b[0m\u001b[0;34m.\u001b[0m\u001b[0mas_text\u001b[0m\u001b[0;34m(\u001b[0m\u001b[0mpywrap_tensorflow\u001b[0m\u001b[0;34m.\u001b[0m\u001b[0mTF_Message\u001b[0m\u001b[0;34m(\u001b[0m\u001b[0mstatus\u001b[0m\u001b[0;34m)\u001b[0m\u001b[0;34m)\u001b[0m\u001b[0;34m,\u001b[0m\u001b[0;34m\u001b[0m\u001b[0m\n\u001b[0;32m--> 469\u001b[0;31m           pywrap_tensorflow.TF_GetCode(status))\n\u001b[0m\u001b[1;32m    470\u001b[0m   \u001b[0;32mfinally\u001b[0m\u001b[0;34m:\u001b[0m\u001b[0;34m\u001b[0m\u001b[0m\n",
      "\u001b[0;31mResourceExhaustedError\u001b[0m: OOM when allocating tensor with shape[25600,512]\n\t [[Node: mul_47 = Mul[T=DT_FLOAT, _device=\"/job:localhost/replica:0/task:0/gpu:0\"](sub_30, gradients_1/MatMul_4_grad/MatMul_1)]]",
      "\nDuring handling of the above exception, another exception occurred:\n",
      "\u001b[0;31mResourceExhaustedError\u001b[0m                    Traceback (most recent call last)",
      "\u001b[0;32m<ipython-input-7-d9bbe9ec50b9>\u001b[0m in \u001b[0;36m<module>\u001b[0;34m()\u001b[0m\n\u001b[1;32m     32\u001b[0m \u001b[0;34m\u001b[0m\u001b[0m\n\u001b[1;32m     33\u001b[0m \u001b[0morig_results\u001b[0m \u001b[0;34m=\u001b[0m \u001b[0meval_model\u001b[0m\u001b[0;34m(\u001b[0m\u001b[0morig_X_train\u001b[0m\u001b[0;34m,\u001b[0m \u001b[0morig_y_train\u001b[0m\u001b[0;34m,\u001b[0m \u001b[0morig_X_val\u001b[0m\u001b[0;34m,\u001b[0m \u001b[0morig_y_val\u001b[0m\u001b[0;34m)\u001b[0m\u001b[0;34m\u001b[0m\u001b[0m\n\u001b[0;32m---> 34\u001b[0;31m \u001b[0msmooth_results\u001b[0m \u001b[0;34m=\u001b[0m \u001b[0meval_model\u001b[0m\u001b[0;34m(\u001b[0m\u001b[0msmooth_X_train\u001b[0m\u001b[0;34m,\u001b[0m \u001b[0msmooth_y_train\u001b[0m\u001b[0;34m,\u001b[0m \u001b[0msmooth_X_val\u001b[0m\u001b[0;34m,\u001b[0m \u001b[0msmooth_y_val\u001b[0m\u001b[0;34m)\u001b[0m\u001b[0;34m\u001b[0m\u001b[0m\n\u001b[0m\u001b[1;32m     35\u001b[0m \u001b[0;34m\u001b[0m\u001b[0m\n\u001b[1;32m     36\u001b[0m \u001b[0;34m\u001b[0m\u001b[0m\n",
      "\u001b[0;32m<ipython-input-7-d9bbe9ec50b9>\u001b[0m in \u001b[0;36meval_model\u001b[0;34m(X_train, y_train, X_val, y_val)\u001b[0m\n\u001b[1;32m     18\u001b[0m \u001b[0;34m\u001b[0m\u001b[0m\n\u001b[1;32m     19\u001b[0m     \u001b[0mprint\u001b[0m\u001b[0;34m(\u001b[0m\u001b[0;34m\"train model\"\u001b[0m\u001b[0;34m)\u001b[0m\u001b[0;34m\u001b[0m\u001b[0m\n\u001b[0;32m---> 20\u001b[0;31m     \u001b[0mmodel\u001b[0m\u001b[0;34m.\u001b[0m\u001b[0mfit\u001b[0m\u001b[0;34m(\u001b[0m\u001b[0mX_train\u001b[0m\u001b[0;34m,\u001b[0m \u001b[0my_train\u001b[0m\u001b[0;34m,\u001b[0m \u001b[0mbatch_size\u001b[0m\u001b[0;34m=\u001b[0m\u001b[0;36m3\u001b[0m\u001b[0;34m,\u001b[0m \u001b[0mnb_epoch\u001b[0m\u001b[0;34m=\u001b[0m\u001b[0;36m10\u001b[0m\u001b[0;34m,\u001b[0m \u001b[0mverbose\u001b[0m\u001b[0;34m=\u001b[0m\u001b[0;36m2\u001b[0m\u001b[0;34m,\u001b[0m \u001b[0mvalidation_data\u001b[0m\u001b[0;34m=\u001b[0m\u001b[0;34m(\u001b[0m\u001b[0mX_val\u001b[0m\u001b[0;34m,\u001b[0m \u001b[0my_val\u001b[0m\u001b[0;34m)\u001b[0m\u001b[0;34m,\u001b[0m \u001b[0mshuffle\u001b[0m\u001b[0;34m=\u001b[0m\u001b[0;32mTrue\u001b[0m\u001b[0;34m)\u001b[0m\u001b[0;34m\u001b[0m\u001b[0m\n\u001b[0m\u001b[1;32m     21\u001b[0m \u001b[0;34m\u001b[0m\u001b[0m\n\u001b[1;32m     22\u001b[0m     \u001b[0;31m# evaluate model\u001b[0m\u001b[0;34m\u001b[0m\u001b[0;34m\u001b[0m\u001b[0m\n",
      "\u001b[0;32m/Users/kyledorman/anaconda/envs/carnd/lib/python3.5/site-packages/keras/models.py\u001b[0m in \u001b[0;36mfit\u001b[0;34m(self, x, y, batch_size, nb_epoch, verbose, callbacks, validation_split, validation_data, shuffle, class_weight, sample_weight, initial_epoch, **kwargs)\u001b[0m\n\u001b[1;32m    670\u001b[0m                               \u001b[0mclass_weight\u001b[0m\u001b[0;34m=\u001b[0m\u001b[0mclass_weight\u001b[0m\u001b[0;34m,\u001b[0m\u001b[0;34m\u001b[0m\u001b[0m\n\u001b[1;32m    671\u001b[0m                               \u001b[0msample_weight\u001b[0m\u001b[0;34m=\u001b[0m\u001b[0msample_weight\u001b[0m\u001b[0;34m,\u001b[0m\u001b[0;34m\u001b[0m\u001b[0m\n\u001b[0;32m--> 672\u001b[0;31m                               initial_epoch=initial_epoch)\n\u001b[0m\u001b[1;32m    673\u001b[0m \u001b[0;34m\u001b[0m\u001b[0m\n\u001b[1;32m    674\u001b[0m     def evaluate(self, x, y, batch_size=32, verbose=1,\n",
      "\u001b[0;32m/Users/kyledorman/anaconda/envs/carnd/lib/python3.5/site-packages/keras/engine/training.py\u001b[0m in \u001b[0;36mfit\u001b[0;34m(self, x, y, batch_size, nb_epoch, verbose, callbacks, validation_split, validation_data, shuffle, class_weight, sample_weight, initial_epoch)\u001b[0m\n\u001b[1;32m   1190\u001b[0m                               \u001b[0mval_f\u001b[0m\u001b[0;34m=\u001b[0m\u001b[0mval_f\u001b[0m\u001b[0;34m,\u001b[0m \u001b[0mval_ins\u001b[0m\u001b[0;34m=\u001b[0m\u001b[0mval_ins\u001b[0m\u001b[0;34m,\u001b[0m \u001b[0mshuffle\u001b[0m\u001b[0;34m=\u001b[0m\u001b[0mshuffle\u001b[0m\u001b[0;34m,\u001b[0m\u001b[0;34m\u001b[0m\u001b[0m\n\u001b[1;32m   1191\u001b[0m                               \u001b[0mcallback_metrics\u001b[0m\u001b[0;34m=\u001b[0m\u001b[0mcallback_metrics\u001b[0m\u001b[0;34m,\u001b[0m\u001b[0;34m\u001b[0m\u001b[0m\n\u001b[0;32m-> 1192\u001b[0;31m                               initial_epoch=initial_epoch)\n\u001b[0m\u001b[1;32m   1193\u001b[0m \u001b[0;34m\u001b[0m\u001b[0m\n\u001b[1;32m   1194\u001b[0m     \u001b[0;32mdef\u001b[0m \u001b[0mevaluate\u001b[0m\u001b[0;34m(\u001b[0m\u001b[0mself\u001b[0m\u001b[0;34m,\u001b[0m \u001b[0mx\u001b[0m\u001b[0;34m,\u001b[0m \u001b[0my\u001b[0m\u001b[0;34m,\u001b[0m \u001b[0mbatch_size\u001b[0m\u001b[0;34m=\u001b[0m\u001b[0;36m32\u001b[0m\u001b[0;34m,\u001b[0m \u001b[0mverbose\u001b[0m\u001b[0;34m=\u001b[0m\u001b[0;36m1\u001b[0m\u001b[0;34m,\u001b[0m \u001b[0msample_weight\u001b[0m\u001b[0;34m=\u001b[0m\u001b[0;32mNone\u001b[0m\u001b[0;34m)\u001b[0m\u001b[0;34m:\u001b[0m\u001b[0;34m\u001b[0m\u001b[0m\n",
      "\u001b[0;32m/Users/kyledorman/anaconda/envs/carnd/lib/python3.5/site-packages/keras/engine/training.py\u001b[0m in \u001b[0;36m_fit_loop\u001b[0;34m(self, f, ins, out_labels, batch_size, nb_epoch, verbose, callbacks, val_f, val_ins, shuffle, callback_metrics, initial_epoch)\u001b[0m\n\u001b[1;32m    890\u001b[0m                 \u001b[0mbatch_logs\u001b[0m\u001b[0;34m[\u001b[0m\u001b[0;34m'size'\u001b[0m\u001b[0;34m]\u001b[0m \u001b[0;34m=\u001b[0m \u001b[0mlen\u001b[0m\u001b[0;34m(\u001b[0m\u001b[0mbatch_ids\u001b[0m\u001b[0;34m)\u001b[0m\u001b[0;34m\u001b[0m\u001b[0m\n\u001b[1;32m    891\u001b[0m                 \u001b[0mcallbacks\u001b[0m\u001b[0;34m.\u001b[0m\u001b[0mon_batch_begin\u001b[0m\u001b[0;34m(\u001b[0m\u001b[0mbatch_index\u001b[0m\u001b[0;34m,\u001b[0m \u001b[0mbatch_logs\u001b[0m\u001b[0;34m)\u001b[0m\u001b[0;34m\u001b[0m\u001b[0m\n\u001b[0;32m--> 892\u001b[0;31m                 \u001b[0mouts\u001b[0m \u001b[0;34m=\u001b[0m \u001b[0mf\u001b[0m\u001b[0;34m(\u001b[0m\u001b[0mins_batch\u001b[0m\u001b[0;34m)\u001b[0m\u001b[0;34m\u001b[0m\u001b[0m\n\u001b[0m\u001b[1;32m    893\u001b[0m                 \u001b[0;32mif\u001b[0m \u001b[0;32mnot\u001b[0m \u001b[0misinstance\u001b[0m\u001b[0;34m(\u001b[0m\u001b[0mouts\u001b[0m\u001b[0;34m,\u001b[0m \u001b[0mlist\u001b[0m\u001b[0;34m)\u001b[0m\u001b[0;34m:\u001b[0m\u001b[0;34m\u001b[0m\u001b[0m\n\u001b[1;32m    894\u001b[0m                     \u001b[0mouts\u001b[0m \u001b[0;34m=\u001b[0m \u001b[0;34m[\u001b[0m\u001b[0mouts\u001b[0m\u001b[0;34m]\u001b[0m\u001b[0;34m\u001b[0m\u001b[0m\n",
      "\u001b[0;32m/Users/kyledorman/anaconda/envs/carnd/lib/python3.5/site-packages/keras/backend/tensorflow_backend.py\u001b[0m in \u001b[0;36m__call__\u001b[0;34m(self, inputs)\u001b[0m\n\u001b[1;32m   1898\u001b[0m         \u001b[0msession\u001b[0m \u001b[0;34m=\u001b[0m \u001b[0mget_session\u001b[0m\u001b[0;34m(\u001b[0m\u001b[0;34m)\u001b[0m\u001b[0;34m\u001b[0m\u001b[0m\n\u001b[1;32m   1899\u001b[0m         updated = session.run(self.outputs + [self.updates_op],\n\u001b[0;32m-> 1900\u001b[0;31m                               feed_dict=feed_dict)\n\u001b[0m\u001b[1;32m   1901\u001b[0m         \u001b[0;32mreturn\u001b[0m \u001b[0mupdated\u001b[0m\u001b[0;34m[\u001b[0m\u001b[0;34m:\u001b[0m\u001b[0mlen\u001b[0m\u001b[0;34m(\u001b[0m\u001b[0mself\u001b[0m\u001b[0;34m.\u001b[0m\u001b[0moutputs\u001b[0m\u001b[0;34m)\u001b[0m\u001b[0;34m]\u001b[0m\u001b[0;34m\u001b[0m\u001b[0m\n\u001b[1;32m   1902\u001b[0m \u001b[0;34m\u001b[0m\u001b[0m\n",
      "\u001b[0;32m/Users/kyledorman/anaconda/envs/carnd/lib/python3.5/site-packages/tensorflow/python/client/session.py\u001b[0m in \u001b[0;36mrun\u001b[0;34m(self, fetches, feed_dict, options, run_metadata)\u001b[0m\n\u001b[1;32m    764\u001b[0m     \u001b[0;32mtry\u001b[0m\u001b[0;34m:\u001b[0m\u001b[0;34m\u001b[0m\u001b[0m\n\u001b[1;32m    765\u001b[0m       result = self._run(None, fetches, feed_dict, options_ptr,\n\u001b[0;32m--> 766\u001b[0;31m                          run_metadata_ptr)\n\u001b[0m\u001b[1;32m    767\u001b[0m       \u001b[0;32mif\u001b[0m \u001b[0mrun_metadata\u001b[0m\u001b[0;34m:\u001b[0m\u001b[0;34m\u001b[0m\u001b[0m\n\u001b[1;32m    768\u001b[0m         \u001b[0mproto_data\u001b[0m \u001b[0;34m=\u001b[0m \u001b[0mtf_session\u001b[0m\u001b[0;34m.\u001b[0m\u001b[0mTF_GetBuffer\u001b[0m\u001b[0;34m(\u001b[0m\u001b[0mrun_metadata_ptr\u001b[0m\u001b[0;34m)\u001b[0m\u001b[0;34m\u001b[0m\u001b[0m\n",
      "\u001b[0;32m/Users/kyledorman/anaconda/envs/carnd/lib/python3.5/site-packages/tensorflow/python/client/session.py\u001b[0m in \u001b[0;36m_run\u001b[0;34m(self, handle, fetches, feed_dict, options, run_metadata)\u001b[0m\n\u001b[1;32m    962\u001b[0m     \u001b[0;32mif\u001b[0m \u001b[0mfinal_fetches\u001b[0m \u001b[0;32mor\u001b[0m \u001b[0mfinal_targets\u001b[0m\u001b[0;34m:\u001b[0m\u001b[0;34m\u001b[0m\u001b[0m\n\u001b[1;32m    963\u001b[0m       results = self._do_run(handle, final_targets, final_fetches,\n\u001b[0;32m--> 964\u001b[0;31m                              feed_dict_string, options, run_metadata)\n\u001b[0m\u001b[1;32m    965\u001b[0m     \u001b[0;32melse\u001b[0m\u001b[0;34m:\u001b[0m\u001b[0;34m\u001b[0m\u001b[0m\n\u001b[1;32m    966\u001b[0m       \u001b[0mresults\u001b[0m \u001b[0;34m=\u001b[0m \u001b[0;34m[\u001b[0m\u001b[0;34m]\u001b[0m\u001b[0;34m\u001b[0m\u001b[0m\n",
      "\u001b[0;32m/Users/kyledorman/anaconda/envs/carnd/lib/python3.5/site-packages/tensorflow/python/client/session.py\u001b[0m in \u001b[0;36m_do_run\u001b[0;34m(self, handle, target_list, fetch_list, feed_dict, options, run_metadata)\u001b[0m\n\u001b[1;32m   1012\u001b[0m     \u001b[0;32mif\u001b[0m \u001b[0mhandle\u001b[0m \u001b[0;32mis\u001b[0m \u001b[0;32mNone\u001b[0m\u001b[0;34m:\u001b[0m\u001b[0;34m\u001b[0m\u001b[0m\n\u001b[1;32m   1013\u001b[0m       return self._do_call(_run_fn, self._session, feed_dict, fetch_list,\n\u001b[0;32m-> 1014\u001b[0;31m                            target_list, options, run_metadata)\n\u001b[0m\u001b[1;32m   1015\u001b[0m     \u001b[0;32melse\u001b[0m\u001b[0;34m:\u001b[0m\u001b[0;34m\u001b[0m\u001b[0m\n\u001b[1;32m   1016\u001b[0m       return self._do_call(_prun_fn, self._session, handle, feed_dict,\n",
      "\u001b[0;32m/Users/kyledorman/anaconda/envs/carnd/lib/python3.5/site-packages/tensorflow/python/client/session.py\u001b[0m in \u001b[0;36m_do_call\u001b[0;34m(self, fn, *args)\u001b[0m\n\u001b[1;32m   1032\u001b[0m         \u001b[0;32mexcept\u001b[0m \u001b[0mKeyError\u001b[0m\u001b[0;34m:\u001b[0m\u001b[0;34m\u001b[0m\u001b[0m\n\u001b[1;32m   1033\u001b[0m           \u001b[0;32mpass\u001b[0m\u001b[0;34m\u001b[0m\u001b[0m\n\u001b[0;32m-> 1034\u001b[0;31m       \u001b[0;32mraise\u001b[0m \u001b[0mtype\u001b[0m\u001b[0;34m(\u001b[0m\u001b[0me\u001b[0m\u001b[0;34m)\u001b[0m\u001b[0;34m(\u001b[0m\u001b[0mnode_def\u001b[0m\u001b[0;34m,\u001b[0m \u001b[0mop\u001b[0m\u001b[0;34m,\u001b[0m \u001b[0mmessage\u001b[0m\u001b[0;34m)\u001b[0m\u001b[0;34m\u001b[0m\u001b[0m\n\u001b[0m\u001b[1;32m   1035\u001b[0m \u001b[0;34m\u001b[0m\u001b[0m\n\u001b[1;32m   1036\u001b[0m   \u001b[0;32mdef\u001b[0m \u001b[0m_extend_graph\u001b[0m\u001b[0;34m(\u001b[0m\u001b[0mself\u001b[0m\u001b[0;34m)\u001b[0m\u001b[0;34m:\u001b[0m\u001b[0;34m\u001b[0m\u001b[0m\n",
      "\u001b[0;31mResourceExhaustedError\u001b[0m: OOM when allocating tensor with shape[25600,512]\n\t [[Node: mul_47 = Mul[T=DT_FLOAT, _device=\"/job:localhost/replica:0/task:0/gpu:0\"](sub_30, gradients_1/MatMul_4_grad/MatMul_1)]]\n\nCaused by op 'mul_47', defined at:\n  File \"/Users/kyledorman/anaconda/envs/carnd/lib/python3.5/runpy.py\", line 184, in _run_module_as_main\n    \"__main__\", mod_spec)\n  File \"/Users/kyledorman/anaconda/envs/carnd/lib/python3.5/runpy.py\", line 85, in _run_code\n    exec(code, run_globals)\n  File \"/Users/kyledorman/anaconda/envs/carnd/lib/python3.5/site-packages/ipykernel/__main__.py\", line 3, in <module>\n    app.launch_new_instance()\n  File \"/Users/kyledorman/anaconda/envs/carnd/lib/python3.5/site-packages/traitlets/config/application.py\", line 658, in launch_instance\n    app.start()\n  File \"/Users/kyledorman/anaconda/envs/carnd/lib/python3.5/site-packages/ipykernel/kernelapp.py\", line 474, in start\n    ioloop.IOLoop.instance().start()\n  File \"/Users/kyledorman/anaconda/envs/carnd/lib/python3.5/site-packages/zmq/eventloop/ioloop.py\", line 177, in start\n    super(ZMQIOLoop, self).start()\n  File \"/Users/kyledorman/anaconda/envs/carnd/lib/python3.5/site-packages/tornado/ioloop.py\", line 887, in start\n    handler_func(fd_obj, events)\n  File \"/Users/kyledorman/anaconda/envs/carnd/lib/python3.5/site-packages/tornado/stack_context.py\", line 275, in null_wrapper\n    return fn(*args, **kwargs)\n  File \"/Users/kyledorman/anaconda/envs/carnd/lib/python3.5/site-packages/zmq/eventloop/zmqstream.py\", line 440, in _handle_events\n    self._handle_recv()\n  File \"/Users/kyledorman/anaconda/envs/carnd/lib/python3.5/site-packages/zmq/eventloop/zmqstream.py\", line 472, in _handle_recv\n    self._run_callback(callback, msg)\n  File \"/Users/kyledorman/anaconda/envs/carnd/lib/python3.5/site-packages/zmq/eventloop/zmqstream.py\", line 414, in _run_callback\n    callback(*args, **kwargs)\n  File \"/Users/kyledorman/anaconda/envs/carnd/lib/python3.5/site-packages/tornado/stack_context.py\", line 275, in null_wrapper\n    return fn(*args, **kwargs)\n  File \"/Users/kyledorman/anaconda/envs/carnd/lib/python3.5/site-packages/ipykernel/kernelbase.py\", line 276, in dispatcher\n    return self.dispatch_shell(stream, msg)\n  File \"/Users/kyledorman/anaconda/envs/carnd/lib/python3.5/site-packages/ipykernel/kernelbase.py\", line 228, in dispatch_shell\n    handler(stream, idents, msg)\n  File \"/Users/kyledorman/anaconda/envs/carnd/lib/python3.5/site-packages/ipykernel/kernelbase.py\", line 390, in execute_request\n    user_expressions, allow_stdin)\n  File \"/Users/kyledorman/anaconda/envs/carnd/lib/python3.5/site-packages/ipykernel/ipkernel.py\", line 196, in do_execute\n    res = shell.run_cell(code, store_history=store_history, silent=silent)\n  File \"/Users/kyledorman/anaconda/envs/carnd/lib/python3.5/site-packages/ipykernel/zmqshell.py\", line 501, in run_cell\n    return super(ZMQInteractiveShell, self).run_cell(*args, **kwargs)\n  File \"/Users/kyledorman/anaconda/envs/carnd/lib/python3.5/site-packages/IPython/core/interactiveshell.py\", line 2717, in run_cell\n    interactivity=interactivity, compiler=compiler, result=result)\n  File \"/Users/kyledorman/anaconda/envs/carnd/lib/python3.5/site-packages/IPython/core/interactiveshell.py\", line 2821, in run_ast_nodes\n    if self.run_code(code, result):\n  File \"/Users/kyledorman/anaconda/envs/carnd/lib/python3.5/site-packages/IPython/core/interactiveshell.py\", line 2881, in run_code\n    exec(code_obj, self.user_global_ns, self.user_ns)\n  File \"<ipython-input-7-d9bbe9ec50b9>\", line 34, in <module>\n    smooth_results = eval_model(smooth_X_train, smooth_y_train, smooth_X_val, smooth_y_val)\n  File \"<ipython-input-7-d9bbe9ec50b9>\", line 20, in eval_model\n    model.fit(X_train, y_train, batch_size=3, nb_epoch=10, verbose=2, validation_data=(X_val, y_val), shuffle=True)\n  File \"/Users/kyledorman/anaconda/envs/carnd/lib/python3.5/site-packages/keras/models.py\", line 672, in fit\n    initial_epoch=initial_epoch)\n  File \"/Users/kyledorman/anaconda/envs/carnd/lib/python3.5/site-packages/keras/engine/training.py\", line 1164, in fit\n    self._make_train_function()\n  File \"/Users/kyledorman/anaconda/envs/carnd/lib/python3.5/site-packages/keras/engine/training.py\", line 761, in _make_train_function\n    self.total_loss)\n  File \"/Users/kyledorman/anaconda/envs/carnd/lib/python3.5/site-packages/keras/optimizers.py\", line 428, in get_updates\n    m_t = (self.beta_1 * m) + (1. - self.beta_1) * g\n  File \"/Users/kyledorman/anaconda/envs/carnd/lib/python3.5/site-packages/tensorflow/python/ops/math_ops.py\", line 814, in binary_op_wrapper\n    return func(x, y, name=name)\n  File \"/Users/kyledorman/anaconda/envs/carnd/lib/python3.5/site-packages/tensorflow/python/ops/math_ops.py\", line 987, in _mul_dispatch\n    return gen_math_ops.mul(x, y, name=name)\n  File \"/Users/kyledorman/anaconda/envs/carnd/lib/python3.5/site-packages/tensorflow/python/ops/gen_math_ops.py\", line 1613, in mul\n    result = _op_def_lib.apply_op(\"Mul\", x=x, y=y, name=name)\n  File \"/Users/kyledorman/anaconda/envs/carnd/lib/python3.5/site-packages/tensorflow/python/framework/op_def_library.py\", line 759, in apply_op\n    op_def=op_def)\n  File \"/Users/kyledorman/anaconda/envs/carnd/lib/python3.5/site-packages/tensorflow/python/framework/ops.py\", line 2240, in create_op\n    original_op=self._default_original_op, op_def=op_def)\n  File \"/Users/kyledorman/anaconda/envs/carnd/lib/python3.5/site-packages/tensorflow/python/framework/ops.py\", line 1128, in __init__\n    self._traceback = _extract_stack()\n\nResourceExhaustedError (see above for traceback): OOM when allocating tensor with shape[25600,512]\n\t [[Node: mul_47 = Mul[T=DT_FLOAT, _device=\"/job:localhost/replica:0/task:0/gpu:0\"](sub_30, gradients_1/MatMul_4_grad/MatMul_1)]]\n"
     ]
    }
   ],
   "source": [
    "from keras.layers.core import Dense, Activation, Flatten, Dropout\n",
    "from keras.models import Sequential\n",
    "\n",
    "def eval_model(X_train, y_train, X_val, y_val):\n",
    "\n",
    "    # define model\n",
    "    input_shape = X_train.shape[1:]\n",
    "    model = Sequential()\n",
    "    model.add(Flatten(input_shape=input_shape))\n",
    "    model.add(Dense(512, activation='relu'))\n",
    "    model.add(Dropout(0.5))\n",
    "    model.add(Dense(256, activation='relu'))\n",
    "    model.add(Dropout(0.5))\n",
    "    model.add(Dense(64, activation='relu'))\n",
    "    model.add(Dropout(0.5))\n",
    "    model.add(Dense(1))\n",
    "    model.compile(optimizer='adam', loss='mean_squared_error', metrics=['accuracy'])\n",
    "    \n",
    "    print(\"train model\")\n",
    "    model.fit(X_train, y_train, batch_size=3, nb_epoch=10, verbose=2, validation_data=(X_val, y_val), shuffle=True)\n",
    "\n",
    "    # evaluate model\n",
    "    print(\"Evaluate train\")\n",
    "    train_results = model.evaluate(X_train, y_train, batch_size=32, verbose=2)\n",
    "    train_predictions = model.predict(X_train, batch_size=32, verbose=2)\n",
    "\n",
    "    print(\"Evaluate validation\")\n",
    "    val_results = model.evaluate(X_val, y_val, batch_size=32, verbose=2)\n",
    "    val_predictions = model.predict(X_val, batch_size=32, verbose=2)\n",
    "    \n",
    "    return [model, train_results, train_predictions, val_results, val_predictions]\n",
    "  \n",
    "orig_results = eval_model(orig_X_train, orig_y_train, orig_X_val, orig_y_val)\n",
    "smooth_results = eval_model(smooth_X_train, smooth_y_train, smooth_X_val, smooth_y_val)\n",
    "\n",
    "\n",
    "\n"
   ]
  },
  {
   "cell_type": "code",
   "execution_count": null,
   "metadata": {
    "collapsed": false
   },
   "outputs": [],
   "source": [
    "from bc_helper.full_path import full_path\n",
    "for k, model in {'orig': orig_results[0], 'smooth': smooth_results[0] }.items():\n",
    "    model.save(full_path(k + \"_model.h5\"))"
   ]
  },
  {
   "cell_type": "code",
   "execution_count": 15,
   "metadata": {
    "collapsed": false
   },
   "outputs": [
    {
     "name": "stdout",
     "output_type": "stream",
     "text": [
      "len(df): 8036\n",
      "   steering                                  center\n",
      "0      -0.5    IMG/left_2016_12_01_13_30_48_287.jpg\n",
      "1      -0.5    IMG/left_2016_12_01_13_30_48_404.jpg\n",
      "2      -0.5    IMG/left_2016_12_01_13_31_12_937.jpg\n",
      "3      -0.5    IMG/left_2016_12_01_13_31_13_037.jpg\n",
      "0       0.5   IMG/right_2016_12_01_13_30_48_287.jpg\n",
      "1       0.5   IMG/right_2016_12_01_13_30_48_404.jpg\n",
      "2       0.5   IMG/right_2016_12_01_13_31_12_937.jpg\n",
      "3       0.5   IMG/right_2016_12_01_13_31_13_037.jpg\n",
      "0       0.0  IMG/center_2016_12_01_13_30_48_287.jpg\n",
      "1       0.0  IMG/center_2016_12_01_13_30_48_404.jpg\n",
      "2       0.0  IMG/center_2016_12_01_13_31_12_937.jpg\n",
      "3       0.0  IMG/center_2016_12_01_13_31_13_037.jpg\n"
     ]
    }
   ],
   "source": [
    "from bc_helper.load import _all_starter_data\n",
    "\n",
    "df = _all_starter_data()\n",
    "print('len(df):', len(df))\n",
    "left = []\n",
    "right = []\n",
    "center = []\n",
    "for index, row in df.iterrows():\n",
    "    if index == 4:\n",
    "        break\n",
    "    left.append(pd.Series([row['steering'] - 0.5, row['left']]))\n",
    "    right.append(pd.Series([row['steering'] + 0.5, row['right']]))\n",
    "    center.append(pd.Series([row['steering'], row['center']]))\n",
    "    \n",
    "left = pd.DataFrame(left)\n",
    "right = pd.DataFrame(right)\n",
    "center = pd.DataFrame(center)\n",
    "new = pd.concat([left, right, center])\n",
    "new.columns = ['steering', 'center']\n",
    "print(new)"
   ]
  }
 ],
 "metadata": {
  "kernelspec": {
   "display_name": "Python 3",
   "language": "python",
   "name": "python3"
  },
  "language_info": {
   "codemirror_mode": {
    "name": "ipython",
    "version": 3
   },
   "file_extension": ".py",
   "mimetype": "text/x-python",
   "name": "python",
   "nbconvert_exporter": "python",
   "pygments_lexer": "ipython3",
   "version": "3.5.2"
  },
  "widgets": {
   "state": {},
   "version": "1.1.2"
  }
 },
 "nbformat": 4,
 "nbformat_minor": 2
}
